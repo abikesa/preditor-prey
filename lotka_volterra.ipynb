{
 "cells": [
  {
   "cell_type": "code",
   "execution_count": null,
   "id": "8fde1c6a",
   "metadata": {},
   "outputs": [],
   "source": [
    "# lotka_volterra.py"
   ]
  },
  {
   "cell_type": "code",
   "execution_count": null,
   "id": "10e78d75",
   "metadata": {
    "lines_to_next_cell": 1
   },
   "outputs": [],
   "source": [
    "# Top-Down Predator-Prey Model\n",
    "# Interactive Lotka-Volterra equations with sliders.\n",
    "\n",
    "import numpy as np\n",
    "import matplotlib.pyplot as plt\n",
    "from scipy.integrate import odeint\n",
    "from ipywidgets import interact, FloatSlider"
   ]
  },
  {
   "cell_type": "code",
   "execution_count": null,
   "id": "7f8a5560",
   "metadata": {
    "lines_to_next_cell": 1
   },
   "outputs": [],
   "source": [
    "def lotka_volterra(state, t, alpha, beta, delta, gamma):\n",
    "    x, y = state\n",
    "    dxdt = alpha * x - beta * x * y\n",
    "    dydt = delta * x * y - gamma * y\n",
    "    return [dxdt, dydt]"
   ]
  },
  {
   "cell_type": "code",
   "execution_count": null,
   "id": "96d89371",
   "metadata": {
    "lines_to_next_cell": 1
   },
   "outputs": [],
   "source": [
    "def simulate_lotka_volterra(alpha=1.0, beta=0.1, delta=0.075, gamma=1.5):\n",
    "    t = np.linspace(0, 50, 1000)\n",
    "    init = [10, 5]\n",
    "    sol = odeint(lotka_volterra, init, t, args=(alpha, beta, delta, gamma))\n",
    "    x, y = sol[:, 0], sol[:, 1]\n",
    "\n",
    "    plt.figure(figsize=(12, 5))\n",
    "    plt.subplot(1, 2, 1)\n",
    "    plt.plot(t, x, label=\"Prey\", color=\"green\")\n",
    "    plt.plot(t, y, label=\"Predator\", color=\"red\")\n",
    "    plt.title(\"Predator-Prey Over Time\")\n",
    "    plt.xlabel(\"Time\"); plt.ylabel(\"Population\"); plt.legend()\n",
    "\n",
    "    plt.subplot(1, 2, 2)\n",
    "    plt.plot(x, y, color=\"purple\")\n",
    "    plt.title(\"Phase Space\")\n",
    "    plt.xlabel(\"Prey\"); plt.ylabel(\"Predator\")\n",
    "    plt.tight_layout()\n",
    "    plt.show()"
   ]
  },
  {
   "cell_type": "code",
   "execution_count": null,
   "id": "d01c53ff",
   "metadata": {},
   "outputs": [],
   "source": [
    "interact(simulate_lotka_volterra,\n",
    "         alpha=FloatSlider(1.0, 0.1, 2.0, 0.1),\n",
    "         beta=FloatSlider(0.1, 0.01, 0.3, 0.01),\n",
    "         delta=FloatSlider(0.075, 0.01, 0.2, 0.005),\n",
    "         gamma=FloatSlider(1.5, 0.1, 3.0, 0.1))"
   ]
  }
 ],
 "metadata": {
  "jupytext": {
   "cell_metadata_filter": "-all",
   "main_language": "python",
   "notebook_metadata_filter": "-all"
  }
 },
 "nbformat": 4,
 "nbformat_minor": 5
}
